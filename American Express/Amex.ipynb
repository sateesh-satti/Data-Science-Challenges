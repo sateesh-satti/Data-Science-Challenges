{
  "nbformat": 4,
  "nbformat_minor": 0,
  "metadata": {
    "colab": {
      "name": "Amex.ipynb",
      "version": "0.3.2",
      "provenance": [],
      "collapsed_sections": []
    },
    "kernelspec": {
      "display_name": "Python 3",
      "language": "python",
      "name": "python3"
    }
  },
  "cells": [
    {
      "metadata": {
        "id": "8KWXMfDP8m5W",
        "colab_type": "code",
        "colab": {}
      },
      "cell_type": "code",
      "source": [
        "def missing_values_table(df):\n",
        "\tmis_val = df.isnull().sum()\n",
        "\tmis_val_percent = 100 * df.isnull().sum() / len(df)\n",
        "\tmis_val_table = pd.concat([mis_val, mis_val_percent], axis=1)\n",
        "\tmis_val_table_ren_columns = mis_val_table.rename(columns={0: 'Missing Values', 1: '% of Total Values'})\n",
        "\tmis_val_table_ren_columns = mis_val_table_ren_columns[mis_val_table_ren_columns.iloc[:, 1] != 0].sort_values('% of Total Values', ascending=False).round(2)\n",
        "\tprint(\"Your selected dataframe has \" + str(df.shape[1]) + \" columns.\\n There are \" + str(mis_val_table_ren_columns.shape[0]) + \" columns that have missing values.\")\n",
        "\treturn mis_val_table_ren_columns\n",
        "    \n",
        "#Function for Calculating the Accuracy\n",
        "def accuracy(crossTab):\n",
        "    tot_Postive = crossTab[0][0] + crossTab[1][1]\n",
        "    tot_predictions = crossTab[0][0] + crossTab[1][1] + crossTab[1][0] + crossTab[0][1]\n",
        "    return ((tot_Postive / tot_predictions)) * 100\n",
        "\n",
        "def oneHotEncodingOfVariable(data,colsToEncode):\n",
        "    import pandas as pd\n",
        "    for col in colsToEncode:\n",
        "       data = pd.get_dummies(data, columns= [col], prefix=[col], prefix_sep='_')\n",
        "    return data"
      ],
      "execution_count": 0,
      "outputs": []
    },
    {
      "metadata": {
        "id": "OvsIsf-R8m5c",
        "colab_type": "code",
        "colab": {},
        "outputId": "4d8132a7-79d1-4919-d89d-03478043e3b7"
      },
      "cell_type": "code",
      "source": [
        "pwd"
      ],
      "execution_count": 0,
      "outputs": [
        {
          "output_type": "execute_result",
          "data": {
            "text/plain": [
              "'G:\\\\Study\\\\Projects\\\\PycharmProjects\\\\Learning\\\\American Express Competition - Analytics Vidhya'"
            ]
          },
          "metadata": {
            "tags": []
          },
          "execution_count": 2
        }
      ]
    },
    {
      "metadata": {
        "id": "bIyEW6x18m5o",
        "colab_type": "code",
        "colab": {}
      },
      "cell_type": "code",
      "source": [
        "import pandas as pd\n",
        "import numpy as np\n",
        "from sklearn import preprocessing\n",
        "le = preprocessing.LabelEncoder()"
      ],
      "execution_count": 0,
      "outputs": []
    },
    {
      "metadata": {
        "id": "R1ICaO_v8m5s",
        "colab_type": "code",
        "colab": {}
      },
      "cell_type": "code",
      "source": [
        "train = pd.read_csv(r'train.csv')\n",
        "test = pd.read_csv(r\"test.csv\")"
      ],
      "execution_count": 0,
      "outputs": []
    },
    {
      "metadata": {
        "id": "nc7PPHks8m5w",
        "colab_type": "code",
        "colab": {}
      },
      "cell_type": "code",
      "source": [
        "# finalData = pd.merge(train, hist, on=['user_id', 'product'], how='inner', suffixes=('_left', '_right'))"
      ],
      "execution_count": 0,
      "outputs": []
    },
    {
      "metadata": {
        "id": "OjLRuje08m57",
        "colab_type": "code",
        "colab": {},
        "outputId": "ddd8680a-bd0e-4075-fca6-96618458d97a"
      },
      "cell_type": "code",
      "source": [
        "missing_values_table(train)"
      ],
      "execution_count": 0,
      "outputs": [
        {
          "output_type": "stream",
          "text": [
            "Your selected dataframe has 15 columns.\n",
            " There are 6 columns that have missing values.\n"
          ],
          "name": "stdout"
        },
        {
          "output_type": "execute_result",
          "data": {
            "text/html": [
              "<div>\n",
              "<style scoped>\n",
              "    .dataframe tbody tr th:only-of-type {\n",
              "        vertical-align: middle;\n",
              "    }\n",
              "\n",
              "    .dataframe tbody tr th {\n",
              "        vertical-align: top;\n",
              "    }\n",
              "\n",
              "    .dataframe thead th {\n",
              "        text-align: right;\n",
              "    }\n",
              "</style>\n",
              "<table border=\"1\" class=\"dataframe\">\n",
              "  <thead>\n",
              "    <tr style=\"text-align: right;\">\n",
              "      <th></th>\n",
              "      <th>Missing Values</th>\n",
              "      <th>% of Total Values</th>\n",
              "    </tr>\n",
              "  </thead>\n",
              "  <tbody>\n",
              "    <tr>\n",
              "      <th>product_category_2</th>\n",
              "      <td>365854</td>\n",
              "      <td>78.97</td>\n",
              "    </tr>\n",
              "    <tr>\n",
              "      <th>city_development_index</th>\n",
              "      <td>125129</td>\n",
              "      <td>27.01</td>\n",
              "    </tr>\n",
              "    <tr>\n",
              "      <th>user_group_id</th>\n",
              "      <td>18243</td>\n",
              "      <td>3.94</td>\n",
              "    </tr>\n",
              "    <tr>\n",
              "      <th>gender</th>\n",
              "      <td>18243</td>\n",
              "      <td>3.94</td>\n",
              "    </tr>\n",
              "    <tr>\n",
              "      <th>age_level</th>\n",
              "      <td>18243</td>\n",
              "      <td>3.94</td>\n",
              "    </tr>\n",
              "    <tr>\n",
              "      <th>user_depth</th>\n",
              "      <td>18243</td>\n",
              "      <td>3.94</td>\n",
              "    </tr>\n",
              "  </tbody>\n",
              "</table>\n",
              "</div>"
            ],
            "text/plain": [
              "                        Missing Values  % of Total Values\n",
              "product_category_2              365854              78.97\n",
              "city_development_index          125129              27.01\n",
              "user_group_id                    18243               3.94\n",
              "gender                           18243               3.94\n",
              "age_level                        18243               3.94\n",
              "user_depth                       18243               3.94"
            ]
          },
          "metadata": {
            "tags": []
          },
          "execution_count": 6
        }
      ]
    },
    {
      "metadata": {
        "id": "gJ5IkW3C8m6A",
        "colab_type": "code",
        "colab": {}
      },
      "cell_type": "code",
      "source": [
        "del train['product_category_2']\n",
        "train['city_development_index'] = np.where(train['city_development_index'].isnull(), train['city_development_index'].mode(), train['city_development_index'])\n",
        "train['user_group_id'] = np.where(train['user_group_id'].isnull(), train['user_group_id'].mode(), train['user_group_id'])\n",
        "train['gender'] = np.where(train['gender'].isnull(), train['gender'].mode(), train['gender'])\n",
        "train['age_level'] = np.where(train['age_level'].isnull(), train['age_level'].mode(), train['age_level'])\n",
        "train['user_depth'] = np.where(train['user_depth'].isnull(), train['user_depth'].mode(), train['user_depth'])"
      ],
      "execution_count": 0,
      "outputs": []
    },
    {
      "metadata": {
        "id": "EPYrtERo8m6G",
        "colab_type": "code",
        "colab": {},
        "outputId": "cf72b424-7607-4290-cbbe-a4d86c18f247"
      },
      "cell_type": "code",
      "source": [
        "train.head()"
      ],
      "execution_count": 0,
      "outputs": [
        {
          "output_type": "execute_result",
          "data": {
            "text/html": [
              "<div>\n",
              "<style scoped>\n",
              "    .dataframe tbody tr th:only-of-type {\n",
              "        vertical-align: middle;\n",
              "    }\n",
              "\n",
              "    .dataframe tbody tr th {\n",
              "        vertical-align: top;\n",
              "    }\n",
              "\n",
              "    .dataframe thead th {\n",
              "        text-align: right;\n",
              "    }\n",
              "</style>\n",
              "<table border=\"1\" class=\"dataframe\">\n",
              "  <thead>\n",
              "    <tr style=\"text-align: right;\">\n",
              "      <th></th>\n",
              "      <th>session_id</th>\n",
              "      <th>DateTime</th>\n",
              "      <th>user_id</th>\n",
              "      <th>product</th>\n",
              "      <th>campaign_id</th>\n",
              "      <th>webpage_id</th>\n",
              "      <th>product_category_1</th>\n",
              "      <th>user_group_id</th>\n",
              "      <th>gender</th>\n",
              "      <th>age_level</th>\n",
              "      <th>user_depth</th>\n",
              "      <th>city_development_index</th>\n",
              "      <th>var_1</th>\n",
              "      <th>is_click</th>\n",
              "    </tr>\n",
              "  </thead>\n",
              "  <tbody>\n",
              "    <tr>\n",
              "      <th>0</th>\n",
              "      <td>140690</td>\n",
              "      <td>2017-07-02 00:00</td>\n",
              "      <td>858557</td>\n",
              "      <td>C</td>\n",
              "      <td>359520</td>\n",
              "      <td>13787</td>\n",
              "      <td>4</td>\n",
              "      <td>10.0</td>\n",
              "      <td>Female</td>\n",
              "      <td>4.0</td>\n",
              "      <td>3.0</td>\n",
              "      <td>3.0</td>\n",
              "      <td>0</td>\n",
              "      <td>0</td>\n",
              "    </tr>\n",
              "    <tr>\n",
              "      <th>1</th>\n",
              "      <td>333291</td>\n",
              "      <td>2017-07-02 00:00</td>\n",
              "      <td>243253</td>\n",
              "      <td>C</td>\n",
              "      <td>105960</td>\n",
              "      <td>11085</td>\n",
              "      <td>5</td>\n",
              "      <td>8.0</td>\n",
              "      <td>Female</td>\n",
              "      <td>2.0</td>\n",
              "      <td>2.0</td>\n",
              "      <td>2.0</td>\n",
              "      <td>0</td>\n",
              "      <td>0</td>\n",
              "    </tr>\n",
              "    <tr>\n",
              "      <th>2</th>\n",
              "      <td>129781</td>\n",
              "      <td>2017-07-02 00:00</td>\n",
              "      <td>243253</td>\n",
              "      <td>C</td>\n",
              "      <td>359520</td>\n",
              "      <td>13787</td>\n",
              "      <td>4</td>\n",
              "      <td>8.0</td>\n",
              "      <td>Female</td>\n",
              "      <td>2.0</td>\n",
              "      <td>2.0</td>\n",
              "      <td>2.0</td>\n",
              "      <td>0</td>\n",
              "      <td>0</td>\n",
              "    </tr>\n",
              "    <tr>\n",
              "      <th>3</th>\n",
              "      <td>464848</td>\n",
              "      <td>2017-07-02 00:00</td>\n",
              "      <td>1097446</td>\n",
              "      <td>I</td>\n",
              "      <td>359520</td>\n",
              "      <td>13787</td>\n",
              "      <td>3</td>\n",
              "      <td>3.0</td>\n",
              "      <td>Male</td>\n",
              "      <td>3.0</td>\n",
              "      <td>3.0</td>\n",
              "      <td>2.0</td>\n",
              "      <td>1</td>\n",
              "      <td>0</td>\n",
              "    </tr>\n",
              "    <tr>\n",
              "      <th>4</th>\n",
              "      <td>90569</td>\n",
              "      <td>2017-07-02 00:01</td>\n",
              "      <td>663656</td>\n",
              "      <td>C</td>\n",
              "      <td>405490</td>\n",
              "      <td>60305</td>\n",
              "      <td>3</td>\n",
              "      <td>2.0</td>\n",
              "      <td>Male</td>\n",
              "      <td>2.0</td>\n",
              "      <td>3.0</td>\n",
              "      <td>2.0</td>\n",
              "      <td>1</td>\n",
              "      <td>0</td>\n",
              "    </tr>\n",
              "  </tbody>\n",
              "</table>\n",
              "</div>"
            ],
            "text/plain": [
              "   session_id          DateTime  user_id product  campaign_id  webpage_id  \\\n",
              "0      140690  2017-07-02 00:00   858557       C       359520       13787   \n",
              "1      333291  2017-07-02 00:00   243253       C       105960       11085   \n",
              "2      129781  2017-07-02 00:00   243253       C       359520       13787   \n",
              "3      464848  2017-07-02 00:00  1097446       I       359520       13787   \n",
              "4       90569  2017-07-02 00:01   663656       C       405490       60305   \n",
              "\n",
              "   product_category_1  user_group_id  gender  age_level  user_depth  \\\n",
              "0                   4           10.0  Female        4.0         3.0   \n",
              "1                   5            8.0  Female        2.0         2.0   \n",
              "2                   4            8.0  Female        2.0         2.0   \n",
              "3                   3            3.0    Male        3.0         3.0   \n",
              "4                   3            2.0    Male        2.0         3.0   \n",
              "\n",
              "   city_development_index  var_1  is_click  \n",
              "0                     3.0      0         0  \n",
              "1                     2.0      0         0  \n",
              "2                     2.0      0         0  \n",
              "3                     2.0      1         0  \n",
              "4                     2.0      1         0  "
            ]
          },
          "metadata": {
            "tags": []
          },
          "execution_count": 8
        }
      ]
    },
    {
      "metadata": {
        "id": "5sc3-hSr8m6M",
        "colab_type": "code",
        "colab": {}
      },
      "cell_type": "code",
      "source": [
        "train = oneHotEncodingOfVariable(train,['product','campaign_id','webpage_id','gender','city_development_index','user_depth','age_level','user_group_id','product_category_1'])"
      ],
      "execution_count": 0,
      "outputs": []
    },
    {
      "metadata": {
        "id": "ZFQ2rI538m6R",
        "colab_type": "code",
        "colab": {}
      },
      "cell_type": "code",
      "source": [
        "Y_train = train.loc[:,'is_click']\n",
        "X_train = train"
      ],
      "execution_count": 0,
      "outputs": []
    },
    {
      "metadata": {
        "id": "lBWIbQec8m6V",
        "colab_type": "code",
        "colab": {}
      },
      "cell_type": "code",
      "source": [
        "del X_train['DateTime']\n",
        "del X_train['user_id']\n",
        "del X_train['is_click']"
      ],
      "execution_count": 0,
      "outputs": []
    },
    {
      "metadata": {
        "id": "3pFCmlU88m6b",
        "colab_type": "code",
        "colab": {}
      },
      "cell_type": "code",
      "source": [
        "from imblearn.over_sampling import SMOTE\n",
        "sm = SMOTE(kind='regular')\n",
        "X_SMOTE, y_SMOTE = sm.fit_sample(X_train, Y_train)\n",
        "X_SMOTE = pd.DataFrame(X_SMOTE)\n",
        "X_SMOTE.columns = X_train.columns"
      ],
      "execution_count": 0,
      "outputs": []
    },
    {
      "metadata": {
        "id": "O3LwNnrx8m6j",
        "colab_type": "code",
        "colab": {}
      },
      "cell_type": "code",
      "source": [
        "from sklearn.model_selection import train_test_split\n",
        "X_train,X_test,Y_train,Y_test = train_test_split(X_SMOTE,y_SMOTE, test_size=0.20)"
      ],
      "execution_count": 0,
      "outputs": []
    },
    {
      "metadata": {
        "id": "bRg6-d_K8m6s",
        "colab_type": "code",
        "colab": {},
        "outputId": "eca76e58-6be4-4c2e-8659-e17b514ecf92"
      },
      "cell_type": "code",
      "source": [
        "X_train.columns[1:len(X_train.columns)]"
      ],
      "execution_count": 0,
      "outputs": [
        {
          "output_type": "execute_result",
          "data": {
            "text/plain": [
              "Index(['var_1', 'product_A', 'product_B', 'product_C', 'product_D',\n",
              "       'product_E', 'product_F', 'product_G', 'product_H', 'product_I',\n",
              "       'product_J', 'campaign_id_82320', 'campaign_id_98970',\n",
              "       'campaign_id_105960', 'campaign_id_118601', 'campaign_id_359520',\n",
              "       'campaign_id_360936', 'campaign_id_396664', 'campaign_id_404347',\n",
              "       'campaign_id_405490', 'campaign_id_414149', 'webpage_id_1734',\n",
              "       'webpage_id_6970', 'webpage_id_11085', 'webpage_id_13787',\n",
              "       'webpage_id_28529', 'webpage_id_45962', 'webpage_id_51181',\n",
              "       'webpage_id_53587', 'webpage_id_60305', 'gender_Female', 'gender_Male',\n",
              "       'city_development_index_1.0', 'city_development_index_2.0',\n",
              "       'city_development_index_3.0', 'city_development_index_4.0',\n",
              "       'user_depth_1.0', 'user_depth_2.0', 'user_depth_3.0', 'age_level_0.0',\n",
              "       'age_level_1.0', 'age_level_2.0', 'age_level_3.0', 'age_level_4.0',\n",
              "       'age_level_5.0', 'age_level_6.0', 'user_group_id_0.0',\n",
              "       'user_group_id_1.0', 'user_group_id_2.0', 'user_group_id_3.0',\n",
              "       'user_group_id_4.0', 'user_group_id_5.0', 'user_group_id_6.0',\n",
              "       'user_group_id_7.0', 'user_group_id_8.0', 'user_group_id_9.0',\n",
              "       'user_group_id_10.0', 'user_group_id_11.0', 'user_group_id_12.0',\n",
              "       'product_category_1_1', 'product_category_1_2', 'product_category_1_3',\n",
              "       'product_category_1_4', 'product_category_1_5'],\n",
              "      dtype='object')"
            ]
          },
          "metadata": {
            "tags": []
          },
          "execution_count": 52
        }
      ]
    },
    {
      "metadata": {
        "id": "42ER6I6y8m61",
        "colab_type": "code",
        "colab": {}
      },
      "cell_type": "code",
      "source": [
        "# temp = X_train\n",
        "X_train = X_train[X_train.columns[1:len(X_train.columns)]]\n",
        "X_test = X_test[X_test.columns[1:len(X_test.columns)]]"
      ],
      "execution_count": 0,
      "outputs": []
    },
    {
      "metadata": {
        "id": "utDs-LM28m64",
        "colab_type": "code",
        "colab": {},
        "outputId": "b962c421-bc67-4e89-9c5b-b9fd6644f00f"
      },
      "cell_type": "code",
      "source": [
        "X_train.head()"
      ],
      "execution_count": 0,
      "outputs": [
        {
          "output_type": "execute_result",
          "data": {
            "text/html": [
              "<div>\n",
              "<style scoped>\n",
              "    .dataframe tbody tr th:only-of-type {\n",
              "        vertical-align: middle;\n",
              "    }\n",
              "\n",
              "    .dataframe tbody tr th {\n",
              "        vertical-align: top;\n",
              "    }\n",
              "\n",
              "    .dataframe thead th {\n",
              "        text-align: right;\n",
              "    }\n",
              "</style>\n",
              "<table border=\"1\" class=\"dataframe\">\n",
              "  <thead>\n",
              "    <tr style=\"text-align: right;\">\n",
              "      <th></th>\n",
              "      <th>var_1</th>\n",
              "      <th>product_A</th>\n",
              "      <th>product_B</th>\n",
              "      <th>product_C</th>\n",
              "      <th>product_D</th>\n",
              "      <th>product_E</th>\n",
              "      <th>product_F</th>\n",
              "      <th>product_G</th>\n",
              "      <th>product_H</th>\n",
              "      <th>product_I</th>\n",
              "      <th>...</th>\n",
              "      <th>user_group_id_8.0</th>\n",
              "      <th>user_group_id_9.0</th>\n",
              "      <th>user_group_id_10.0</th>\n",
              "      <th>user_group_id_11.0</th>\n",
              "      <th>user_group_id_12.0</th>\n",
              "      <th>product_category_1_1</th>\n",
              "      <th>product_category_1_2</th>\n",
              "      <th>product_category_1_3</th>\n",
              "      <th>product_category_1_4</th>\n",
              "      <th>product_category_1_5</th>\n",
              "    </tr>\n",
              "  </thead>\n",
              "  <tbody>\n",
              "    <tr>\n",
              "      <th>228042</th>\n",
              "      <td>0</td>\n",
              "      <td>0</td>\n",
              "      <td>0</td>\n",
              "      <td>0</td>\n",
              "      <td>0</td>\n",
              "      <td>0</td>\n",
              "      <td>0</td>\n",
              "      <td>0</td>\n",
              "      <td>1</td>\n",
              "      <td>0</td>\n",
              "      <td>...</td>\n",
              "      <td>0</td>\n",
              "      <td>0</td>\n",
              "      <td>0</td>\n",
              "      <td>0</td>\n",
              "      <td>0</td>\n",
              "      <td>0</td>\n",
              "      <td>0</td>\n",
              "      <td>0</td>\n",
              "      <td>1</td>\n",
              "      <td>0</td>\n",
              "    </tr>\n",
              "    <tr>\n",
              "      <th>535490</th>\n",
              "      <td>0</td>\n",
              "      <td>0</td>\n",
              "      <td>0</td>\n",
              "      <td>0</td>\n",
              "      <td>0</td>\n",
              "      <td>0</td>\n",
              "      <td>0</td>\n",
              "      <td>0</td>\n",
              "      <td>0</td>\n",
              "      <td>1</td>\n",
              "      <td>...</td>\n",
              "      <td>0</td>\n",
              "      <td>0</td>\n",
              "      <td>0</td>\n",
              "      <td>0</td>\n",
              "      <td>0</td>\n",
              "      <td>0</td>\n",
              "      <td>0</td>\n",
              "      <td>1</td>\n",
              "      <td>0</td>\n",
              "      <td>0</td>\n",
              "    </tr>\n",
              "    <tr>\n",
              "      <th>663682</th>\n",
              "      <td>1</td>\n",
              "      <td>0</td>\n",
              "      <td>0</td>\n",
              "      <td>0</td>\n",
              "      <td>0</td>\n",
              "      <td>1</td>\n",
              "      <td>0</td>\n",
              "      <td>0</td>\n",
              "      <td>0</td>\n",
              "      <td>0</td>\n",
              "      <td>...</td>\n",
              "      <td>0</td>\n",
              "      <td>0</td>\n",
              "      <td>0</td>\n",
              "      <td>0</td>\n",
              "      <td>0</td>\n",
              "      <td>0</td>\n",
              "      <td>1</td>\n",
              "      <td>0</td>\n",
              "      <td>0</td>\n",
              "      <td>0</td>\n",
              "    </tr>\n",
              "    <tr>\n",
              "      <th>242325</th>\n",
              "      <td>1</td>\n",
              "      <td>0</td>\n",
              "      <td>0</td>\n",
              "      <td>0</td>\n",
              "      <td>1</td>\n",
              "      <td>0</td>\n",
              "      <td>0</td>\n",
              "      <td>0</td>\n",
              "      <td>0</td>\n",
              "      <td>0</td>\n",
              "      <td>...</td>\n",
              "      <td>0</td>\n",
              "      <td>0</td>\n",
              "      <td>0</td>\n",
              "      <td>0</td>\n",
              "      <td>0</td>\n",
              "      <td>1</td>\n",
              "      <td>0</td>\n",
              "      <td>0</td>\n",
              "      <td>0</td>\n",
              "      <td>0</td>\n",
              "    </tr>\n",
              "    <tr>\n",
              "      <th>646999</th>\n",
              "      <td>1</td>\n",
              "      <td>0</td>\n",
              "      <td>0</td>\n",
              "      <td>1</td>\n",
              "      <td>0</td>\n",
              "      <td>0</td>\n",
              "      <td>0</td>\n",
              "      <td>0</td>\n",
              "      <td>0</td>\n",
              "      <td>0</td>\n",
              "      <td>...</td>\n",
              "      <td>0</td>\n",
              "      <td>0</td>\n",
              "      <td>0</td>\n",
              "      <td>0</td>\n",
              "      <td>0</td>\n",
              "      <td>0</td>\n",
              "      <td>0</td>\n",
              "      <td>1</td>\n",
              "      <td>0</td>\n",
              "      <td>0</td>\n",
              "    </tr>\n",
              "  </tbody>\n",
              "</table>\n",
              "<p>5 rows × 64 columns</p>\n",
              "</div>"
            ],
            "text/plain": [
              "        var_1  product_A  product_B  product_C  product_D  product_E  \\\n",
              "228042      0          0          0          0          0          0   \n",
              "535490      0          0          0          0          0          0   \n",
              "663682      1          0          0          0          0          1   \n",
              "242325      1          0          0          0          1          0   \n",
              "646999      1          0          0          1          0          0   \n",
              "\n",
              "        product_F  product_G  product_H  product_I          ...           \\\n",
              "228042          0          0          1          0          ...            \n",
              "535490          0          0          0          1          ...            \n",
              "663682          0          0          0          0          ...            \n",
              "242325          0          0          0          0          ...            \n",
              "646999          0          0          0          0          ...            \n",
              "\n",
              "        user_group_id_8.0  user_group_id_9.0  user_group_id_10.0  \\\n",
              "228042                  0                  0                   0   \n",
              "535490                  0                  0                   0   \n",
              "663682                  0                  0                   0   \n",
              "242325                  0                  0                   0   \n",
              "646999                  0                  0                   0   \n",
              "\n",
              "        user_group_id_11.0  user_group_id_12.0  product_category_1_1  \\\n",
              "228042                   0                   0                     0   \n",
              "535490                   0                   0                     0   \n",
              "663682                   0                   0                     0   \n",
              "242325                   0                   0                     1   \n",
              "646999                   0                   0                     0   \n",
              "\n",
              "        product_category_1_2  product_category_1_3  product_category_1_4  \\\n",
              "228042                     0                     0                     1   \n",
              "535490                     0                     1                     0   \n",
              "663682                     1                     0                     0   \n",
              "242325                     0                     0                     0   \n",
              "646999                     0                     1                     0   \n",
              "\n",
              "        product_category_1_5  \n",
              "228042                     0  \n",
              "535490                     0  \n",
              "663682                     0  \n",
              "242325                     0  \n",
              "646999                     0  \n",
              "\n",
              "[5 rows x 64 columns]"
            ]
          },
          "metadata": {
            "tags": []
          },
          "execution_count": 16
        }
      ]
    },
    {
      "metadata": {
        "id": "EQ-SDBdF8m7A",
        "colab_type": "code",
        "colab": {},
        "outputId": "578ddf91-f449-4b74-a97a-7845d61a1f63"
      },
      "cell_type": "code",
      "source": [
        "X_test.head()"
      ],
      "execution_count": 0,
      "outputs": [
        {
          "output_type": "execute_result",
          "data": {
            "text/html": [
              "<div>\n",
              "<style scoped>\n",
              "    .dataframe tbody tr th:only-of-type {\n",
              "        vertical-align: middle;\n",
              "    }\n",
              "\n",
              "    .dataframe tbody tr th {\n",
              "        vertical-align: top;\n",
              "    }\n",
              "\n",
              "    .dataframe thead th {\n",
              "        text-align: right;\n",
              "    }\n",
              "</style>\n",
              "<table border=\"1\" class=\"dataframe\">\n",
              "  <thead>\n",
              "    <tr style=\"text-align: right;\">\n",
              "      <th></th>\n",
              "      <th>var_1</th>\n",
              "      <th>product_A</th>\n",
              "      <th>product_B</th>\n",
              "      <th>product_C</th>\n",
              "      <th>product_D</th>\n",
              "      <th>product_E</th>\n",
              "      <th>product_F</th>\n",
              "      <th>product_G</th>\n",
              "      <th>product_H</th>\n",
              "      <th>product_I</th>\n",
              "      <th>...</th>\n",
              "      <th>user_group_id_8.0</th>\n",
              "      <th>user_group_id_9.0</th>\n",
              "      <th>user_group_id_10.0</th>\n",
              "      <th>user_group_id_11.0</th>\n",
              "      <th>user_group_id_12.0</th>\n",
              "      <th>product_category_1_1</th>\n",
              "      <th>product_category_1_2</th>\n",
              "      <th>product_category_1_3</th>\n",
              "      <th>product_category_1_4</th>\n",
              "      <th>product_category_1_5</th>\n",
              "    </tr>\n",
              "  </thead>\n",
              "  <tbody>\n",
              "    <tr>\n",
              "      <th>68637</th>\n",
              "      <td>0</td>\n",
              "      <td>0</td>\n",
              "      <td>0</td>\n",
              "      <td>0</td>\n",
              "      <td>0</td>\n",
              "      <td>0</td>\n",
              "      <td>0</td>\n",
              "      <td>0</td>\n",
              "      <td>0</td>\n",
              "      <td>1</td>\n",
              "      <td>...</td>\n",
              "      <td>0</td>\n",
              "      <td>0</td>\n",
              "      <td>0</td>\n",
              "      <td>0</td>\n",
              "      <td>0</td>\n",
              "      <td>1</td>\n",
              "      <td>0</td>\n",
              "      <td>0</td>\n",
              "      <td>0</td>\n",
              "      <td>0</td>\n",
              "    </tr>\n",
              "    <tr>\n",
              "      <th>784330</th>\n",
              "      <td>0</td>\n",
              "      <td>0</td>\n",
              "      <td>0</td>\n",
              "      <td>1</td>\n",
              "      <td>0</td>\n",
              "      <td>0</td>\n",
              "      <td>0</td>\n",
              "      <td>0</td>\n",
              "      <td>0</td>\n",
              "      <td>0</td>\n",
              "      <td>...</td>\n",
              "      <td>0</td>\n",
              "      <td>0</td>\n",
              "      <td>0</td>\n",
              "      <td>0</td>\n",
              "      <td>0</td>\n",
              "      <td>0</td>\n",
              "      <td>0</td>\n",
              "      <td>0</td>\n",
              "      <td>1</td>\n",
              "      <td>0</td>\n",
              "    </tr>\n",
              "    <tr>\n",
              "      <th>251583</th>\n",
              "      <td>0</td>\n",
              "      <td>0</td>\n",
              "      <td>0</td>\n",
              "      <td>1</td>\n",
              "      <td>0</td>\n",
              "      <td>0</td>\n",
              "      <td>0</td>\n",
              "      <td>0</td>\n",
              "      <td>0</td>\n",
              "      <td>0</td>\n",
              "      <td>...</td>\n",
              "      <td>0</td>\n",
              "      <td>0</td>\n",
              "      <td>0</td>\n",
              "      <td>0</td>\n",
              "      <td>0</td>\n",
              "      <td>0</td>\n",
              "      <td>0</td>\n",
              "      <td>1</td>\n",
              "      <td>0</td>\n",
              "      <td>0</td>\n",
              "    </tr>\n",
              "    <tr>\n",
              "      <th>735758</th>\n",
              "      <td>0</td>\n",
              "      <td>0</td>\n",
              "      <td>1</td>\n",
              "      <td>0</td>\n",
              "      <td>0</td>\n",
              "      <td>0</td>\n",
              "      <td>0</td>\n",
              "      <td>0</td>\n",
              "      <td>0</td>\n",
              "      <td>0</td>\n",
              "      <td>...</td>\n",
              "      <td>0</td>\n",
              "      <td>0</td>\n",
              "      <td>0</td>\n",
              "      <td>0</td>\n",
              "      <td>0</td>\n",
              "      <td>0</td>\n",
              "      <td>1</td>\n",
              "      <td>0</td>\n",
              "      <td>0</td>\n",
              "      <td>0</td>\n",
              "    </tr>\n",
              "    <tr>\n",
              "      <th>468026</th>\n",
              "      <td>0</td>\n",
              "      <td>0</td>\n",
              "      <td>0</td>\n",
              "      <td>1</td>\n",
              "      <td>0</td>\n",
              "      <td>0</td>\n",
              "      <td>0</td>\n",
              "      <td>0</td>\n",
              "      <td>0</td>\n",
              "      <td>0</td>\n",
              "      <td>...</td>\n",
              "      <td>0</td>\n",
              "      <td>0</td>\n",
              "      <td>0</td>\n",
              "      <td>0</td>\n",
              "      <td>0</td>\n",
              "      <td>0</td>\n",
              "      <td>0</td>\n",
              "      <td>1</td>\n",
              "      <td>0</td>\n",
              "      <td>0</td>\n",
              "    </tr>\n",
              "  </tbody>\n",
              "</table>\n",
              "<p>5 rows × 64 columns</p>\n",
              "</div>"
            ],
            "text/plain": [
              "        var_1  product_A  product_B  product_C  product_D  product_E  \\\n",
              "68637       0          0          0          0          0          0   \n",
              "784330      0          0          0          1          0          0   \n",
              "251583      0          0          0          1          0          0   \n",
              "735758      0          0          1          0          0          0   \n",
              "468026      0          0          0          1          0          0   \n",
              "\n",
              "        product_F  product_G  product_H  product_I          ...           \\\n",
              "68637           0          0          0          1          ...            \n",
              "784330          0          0          0          0          ...            \n",
              "251583          0          0          0          0          ...            \n",
              "735758          0          0          0          0          ...            \n",
              "468026          0          0          0          0          ...            \n",
              "\n",
              "        user_group_id_8.0  user_group_id_9.0  user_group_id_10.0  \\\n",
              "68637                   0                  0                   0   \n",
              "784330                  0                  0                   0   \n",
              "251583                  0                  0                   0   \n",
              "735758                  0                  0                   0   \n",
              "468026                  0                  0                   0   \n",
              "\n",
              "        user_group_id_11.0  user_group_id_12.0  product_category_1_1  \\\n",
              "68637                    0                   0                     1   \n",
              "784330                   0                   0                     0   \n",
              "251583                   0                   0                     0   \n",
              "735758                   0                   0                     0   \n",
              "468026                   0                   0                     0   \n",
              "\n",
              "        product_category_1_2  product_category_1_3  product_category_1_4  \\\n",
              "68637                      0                     0                     0   \n",
              "784330                     0                     0                     1   \n",
              "251583                     0                     1                     0   \n",
              "735758                     1                     0                     0   \n",
              "468026                     0                     1                     0   \n",
              "\n",
              "        product_category_1_5  \n",
              "68637                      0  \n",
              "784330                     0  \n",
              "251583                     0  \n",
              "735758                     0  \n",
              "468026                     0  \n",
              "\n",
              "[5 rows x 64 columns]"
            ]
          },
          "metadata": {
            "tags": []
          },
          "execution_count": 17
        }
      ]
    },
    {
      "metadata": {
        "id": "WL_G1Zz-8m7G",
        "colab_type": "code",
        "colab": {}
      },
      "cell_type": "code",
      "source": [
        "Y_train = pd.DataFrame(Y_train)\n",
        "Y_test = pd.DataFrame(Y_test)\n",
        "Y_train.columns = ['is_click']\n",
        "Y_test.columns = ['is_click']"
      ],
      "execution_count": 0,
      "outputs": []
    },
    {
      "metadata": {
        "id": "KaFZwRrT8m7K",
        "colab_type": "code",
        "colab": {},
        "outputId": "6b16714b-6fa4-42a8-b2a6-007570881238"
      },
      "cell_type": "code",
      "source": [
        "Y_train['is_click'].value_counts()[1] / (Y_train['is_click'].value_counts()[0] + Y_train['is_click'].value_counts()[1]) *100"
      ],
      "execution_count": 0,
      "outputs": [
        {
          "output_type": "execute_result",
          "data": {
            "text/plain": [
              "49.96744490230577"
            ]
          },
          "metadata": {
            "tags": []
          },
          "execution_count": 55
        }
      ]
    },
    {
      "metadata": {
        "id": "FlvB3vmM8m7Q",
        "colab_type": "code",
        "colab": {},
        "outputId": "fd2b0dd4-5212-4c91-a59e-29f31fe0081f"
      },
      "cell_type": "code",
      "source": [
        "Y_train.head()"
      ],
      "execution_count": 0,
      "outputs": [
        {
          "output_type": "execute_result",
          "data": {
            "text/html": [
              "<div>\n",
              "<style scoped>\n",
              "    .dataframe tbody tr th:only-of-type {\n",
              "        vertical-align: middle;\n",
              "    }\n",
              "\n",
              "    .dataframe tbody tr th {\n",
              "        vertical-align: top;\n",
              "    }\n",
              "\n",
              "    .dataframe thead th {\n",
              "        text-align: right;\n",
              "    }\n",
              "</style>\n",
              "<table border=\"1\" class=\"dataframe\">\n",
              "  <thead>\n",
              "    <tr style=\"text-align: right;\">\n",
              "      <th></th>\n",
              "      <th>is_click</th>\n",
              "    </tr>\n",
              "  </thead>\n",
              "  <tbody>\n",
              "    <tr>\n",
              "      <th>0</th>\n",
              "      <td>0</td>\n",
              "    </tr>\n",
              "    <tr>\n",
              "      <th>1</th>\n",
              "      <td>0</td>\n",
              "    </tr>\n",
              "    <tr>\n",
              "      <th>2</th>\n",
              "      <td>1</td>\n",
              "    </tr>\n",
              "    <tr>\n",
              "      <th>3</th>\n",
              "      <td>0</td>\n",
              "    </tr>\n",
              "    <tr>\n",
              "      <th>4</th>\n",
              "      <td>1</td>\n",
              "    </tr>\n",
              "  </tbody>\n",
              "</table>\n",
              "</div>"
            ],
            "text/plain": [
              "   is_click\n",
              "0         0\n",
              "1         0\n",
              "2         1\n",
              "3         0\n",
              "4         1"
            ]
          },
          "metadata": {
            "tags": []
          },
          "execution_count": 56
        }
      ]
    },
    {
      "metadata": {
        "id": "TiGt9ISx8m7U",
        "colab_type": "code",
        "colab": {},
        "outputId": "0032c3fe-74be-4d2b-f89a-70543b7525d3"
      },
      "cell_type": "code",
      "source": [
        "import tensorflow as tf\n",
        "model = tf.estimator.LinearClassifier(\n",
        "    n_classes = 2,\n",
        "    model_dir=\"train\", \n",
        "    feature_columns=X_train.columns)"
      ],
      "execution_count": 0,
      "outputs": [
        {
          "output_type": "stream",
          "text": [
            "INFO:tensorflow:Using default config.\n",
            "INFO:tensorflow:Using config: {'_model_dir': 'train', '_tf_random_seed': None, '_save_summary_steps': 100, '_save_checkpoints_steps': None, '_save_checkpoints_secs': 600, '_session_config': None, '_keep_checkpoint_max': 5, '_keep_checkpoint_every_n_hours': 10000, '_log_step_count_steps': 100, '_train_distribute': None, '_device_fn': None, '_service': None, '_cluster_spec': <tensorflow.python.training.server_lib.ClusterSpec object at 0x00000078151E9320>, '_task_type': 'worker', '_task_id': 0, '_global_id_in_cluster': 0, '_master': '', '_evaluation_master': '', '_is_chief': True, '_num_ps_replicas': 0, '_num_worker_replicas': 1}\n"
          ],
          "name": "stdout"
        }
      ]
    },
    {
      "metadata": {
        "id": "rVOnzERp8m7a",
        "colab_type": "code",
        "colab": {},
        "outputId": "2ccc955f-793c-48c2-f376-6c84b8c670ae"
      },
      "cell_type": "code",
      "source": [
        "X_train.index"
      ],
      "execution_count": 0,
      "outputs": [
        {
          "output_type": "execute_result",
          "data": {
            "text/plain": [
              "Int64Index([228042, 535490, 663682, 242325, 646999, 700253, 606836, 128368,\n",
              "            227509, 623686,\n",
              "            ...\n",
              "            681925, 811163, 386197, 354048, 841055,  90201, 224552, 788722,\n",
              "            853527, 629950],\n",
              "           dtype='int64', length=691136)"
            ]
          },
          "metadata": {
            "tags": []
          },
          "execution_count": 38
        }
      ]
    },
    {
      "metadata": {
        "id": "GEz6QfBb8m7g",
        "colab_type": "code",
        "colab": {}
      },
      "cell_type": "code",
      "source": [
        "Y_train.index = X_train.index"
      ],
      "execution_count": 0,
      "outputs": []
    },
    {
      "metadata": {
        "id": "nnZmA6D58m72",
        "colab_type": "code",
        "colab": {},
        "outputId": "ef412153-80bd-4947-ee92-f8d309796d5d"
      },
      "cell_type": "code",
      "source": [
        "#Logistic Regression\n",
        "from sklearn import linear_model\n",
        "lr = linear_model.LogisticRegression()\n",
        "lr.fit(X_train,Y_train['is_click'])\n",
        "prediction_lr = lr.predict(X_test)\n",
        "cmatrix_lr = pd.crosstab(prediction_lr,Y_test['is_click'])\n",
        "print(accuracy(cmatrix_lr))\n",
        "# print(accuracy(cmatrix_tree))"
      ],
      "execution_count": 0,
      "outputs": [
        {
          "output_type": "stream",
          "text": [
            "C:\\ProgramData\\Anaconda3\\lib\\site-packages\\sklearn\\linear_model\\logistic.py:432: FutureWarning: Default solver will be changed to 'lbfgs' in 0.22. Specify a solver to silence this warning.\n",
            "  FutureWarning)\n"
          ],
          "name": "stderr"
        },
        {
          "output_type": "stream",
          "text": [
            "92.15320863042874\n"
          ],
          "name": "stdout"
        }
      ]
    },
    {
      "metadata": {
        "id": "4oXvLo6C8m78",
        "colab_type": "code",
        "colab": {},
        "outputId": "32e00ea1-7240-49ec-b9d9-fb2eac582428"
      },
      "cell_type": "code",
      "source": [
        "#Random Forest\n",
        "from sklearn import ensemble\n",
        "rf = ensemble.RandomForestClassifier()\n",
        "rf.fit(X_train,Y_train['is_click'])\n",
        "prediction_rf = rf.predict(X_test)\n",
        "cmatrix_rf = pd.crosstab(prediction_rf,Y_test['is_click'])\n",
        "print(accuracy(cmatrix_rf)) #   99.0228013029316"
      ],
      "execution_count": 0,
      "outputs": [
        {
          "output_type": "stream",
          "text": [
            "C:\\ProgramData\\Anaconda3\\lib\\site-packages\\sklearn\\ensemble\\forest.py:248: FutureWarning: The default value of n_estimators will change from 10 in version 0.20 to 100 in 0.22.\n",
            "  \"10 in version 0.20 to 100 in 0.22.\", FutureWarning)\n"
          ],
          "name": "stderr"
        },
        {
          "output_type": "stream",
          "text": [
            "92.12484952310399\n"
          ],
          "name": "stdout"
        }
      ]
    },
    {
      "metadata": {
        "id": "ipi5QLSP8m8C",
        "colab_type": "code",
        "colab": {},
        "outputId": "3fe305a5-0bc5-46ae-fca1-b5d6616e01fa"
      },
      "cell_type": "code",
      "source": [
        "#oob_score = TRUE, n_jobs = -1,random_state =50,max_features = \"auto\", min_samples_leaf\n",
        "#Random Forest\n",
        "from sklearn import ensemble\n",
        "rf1 = ensemble.RandomForestClassifier(n_estimators=370,oob_score = True, n_jobs = -1,max_features = \"auto\", min_samples_leaf=5)\n",
        "rf1.fit(X_train,Y_train['is_click'])\n",
        "prediction_rf_1 = rf1.predict(X_test)\n",
        "cmatrix_rf_1 = pd.crosstab(prediction_rf_1,Y_test['is_click'])\n",
        "print(accuracy(cmatrix_rf_1)) #   95.30058991184464 "
      ],
      "execution_count": 0,
      "outputs": [
        {
          "output_type": "stream",
          "text": [
            "92.08202148347068\n"
          ],
          "name": "stdout"
        }
      ]
    },
    {
      "metadata": {
        "id": "2LXW9s668m8J",
        "colab_type": "code",
        "colab": {}
      },
      "cell_type": "code",
      "source": [
        "#Predctng usng KNN\n",
        "from sklearn import neighbors\n",
        "KN = neighbors.KNeighborsClassifier()\n",
        "KN.fit(X_train,Y_train)\n",
        "predictKN = KN.predict(X_test)\n",
        "cmatrix_KN = pd.crosstab(predictKN, Y_test)\n",
        "print(accuracy(cmatrix_KN)) #   0.33 - 92.80174985086498\n",
        "   "
      ],
      "execution_count": 0,
      "outputs": []
    },
    {
      "metadata": {
        "id": "f3uwZDh18m8P",
        "colab_type": "code",
        "colab": {},
        "outputId": "52b7bfa7-8d16-41cb-f03c-d2133194ea61"
      },
      "cell_type": "code",
      "source": [
        "# #Predicting using MLP\n",
        "from sklearn.neural_network import MLPClassifier\n",
        "mlp = MLPClassifier(hidden_layer_sizes=(30,30,30))   \n",
        "mlp.fit(X_train,Y_train['is_click'])\n",
        "Predict_MLP =mlp.predict(X_test)\n",
        "cmatrix_MLP = pd.crosstab(Predict_MLP,Y_test['is_click'])\n",
        "print(accuracy(cmatrix_MLP)) #   0.33 - 86.65075893153046"
      ],
      "execution_count": 0,
      "outputs": [
        {
          "output_type": "stream",
          "text": [
            "92.15205111584406\n"
          ],
          "name": "stdout"
        }
      ]
    },
    {
      "metadata": {
        "id": "SNsTle1O8m8U",
        "colab_type": "code",
        "colab": {},
        "outputId": "95d46800-df8a-464c-f29b-1e132941dfc9"
      },
      "cell_type": "code",
      "source": [
        "from sklearn import tree\n",
        "tr = tree.DecisionTreeClassifier()\n",
        "tr.fit(X_train,Y_train['is_click'])\n",
        "Predict_tree =tr.predict(X_test)\n",
        "cmatrix_tree = pd.crosstab(Predict_tree,Y_test['is_click'])\n",
        "print(accuracy(cmatrix_tree)) #   0.33 - 86.65075893153046"
      ],
      "execution_count": 0,
      "outputs": [
        {
          "output_type": "stream",
          "text": [
            "92.13237336790444\n"
          ],
          "name": "stdout"
        }
      ]
    },
    {
      "metadata": {
        "id": "I790LE4D8m8a",
        "colab_type": "code",
        "colab": {},
        "outputId": "44c85f2f-8414-4627-800d-bd2ef88e038c"
      },
      "cell_type": "code",
      "source": [
        "missing_values_table(test)"
      ],
      "execution_count": 0,
      "outputs": [
        {
          "output_type": "stream",
          "text": [
            "Your selected dataframe has 65 columns.\n",
            " There are 0 columns that have missing values.\n"
          ],
          "name": "stdout"
        },
        {
          "output_type": "execute_result",
          "data": {
            "text/html": [
              "<div>\n",
              "<style scoped>\n",
              "    .dataframe tbody tr th:only-of-type {\n",
              "        vertical-align: middle;\n",
              "    }\n",
              "\n",
              "    .dataframe tbody tr th {\n",
              "        vertical-align: top;\n",
              "    }\n",
              "\n",
              "    .dataframe thead th {\n",
              "        text-align: right;\n",
              "    }\n",
              "</style>\n",
              "<table border=\"1\" class=\"dataframe\">\n",
              "  <thead>\n",
              "    <tr style=\"text-align: right;\">\n",
              "      <th></th>\n",
              "      <th>Missing Values</th>\n",
              "      <th>% of Total Values</th>\n",
              "    </tr>\n",
              "  </thead>\n",
              "  <tbody>\n",
              "  </tbody>\n",
              "</table>\n",
              "</div>"
            ],
            "text/plain": [
              "Empty DataFrame\n",
              "Columns: [Missing Values, % of Total Values]\n",
              "Index: []"
            ]
          },
          "metadata": {
            "tags": []
          },
          "execution_count": 103
        }
      ]
    },
    {
      "metadata": {
        "id": "BvzNmIBg8m8i",
        "colab_type": "code",
        "colab": {},
        "outputId": "1ed37649-5667-4702-aee4-11a574ad8a3e"
      },
      "cell_type": "code",
      "source": [
        "del test['product_category_2']\n",
        "test['city_development_index'] = np.where(test['city_development_index'].isnull(), test['city_development_index'].mode(), test['city_development_index'])\n",
        "test['user_group_id'] = np.where(test['user_group_id'].isnull(), test['user_group_id'].mode(), test['user_group_id'])\n",
        "test['gender'] = np.where(test['gender'].isnull(), test['gender'].mode(), test['gender'])\n",
        "test['age_level'] = np.where(test['age_level'].isnull(), test['age_level'].mode(), test['age_level'])\n",
        "test['user_depth'] = np.where(test['user_depth'].isnull(), test['user_depth'].mode(), test['user_depth'])"
      ],
      "execution_count": 0,
      "outputs": [
        {
          "output_type": "error",
          "ename": "KeyError",
          "evalue": "'product_category_2'",
          "traceback": [
            "\u001b[1;31m---------------------------------------------------------------------------\u001b[0m",
            "\u001b[1;31mKeyError\u001b[0m                                  Traceback (most recent call last)",
            "\u001b[1;32mC:\\ProgramData\\Anaconda3\\lib\\site-packages\\pandas\\core\\indexes\\base.py\u001b[0m in \u001b[0;36mget_loc\u001b[1;34m(self, key, method, tolerance)\u001b[0m\n\u001b[0;32m   3062\u001b[0m             \u001b[1;32mtry\u001b[0m\u001b[1;33m:\u001b[0m\u001b[1;33m\u001b[0m\u001b[0m\n\u001b[1;32m-> 3063\u001b[1;33m                 \u001b[1;32mreturn\u001b[0m \u001b[0mself\u001b[0m\u001b[1;33m.\u001b[0m\u001b[0m_engine\u001b[0m\u001b[1;33m.\u001b[0m\u001b[0mget_loc\u001b[0m\u001b[1;33m(\u001b[0m\u001b[0mkey\u001b[0m\u001b[1;33m)\u001b[0m\u001b[1;33m\u001b[0m\u001b[0m\n\u001b[0m\u001b[0;32m   3064\u001b[0m             \u001b[1;32mexcept\u001b[0m \u001b[0mKeyError\u001b[0m\u001b[1;33m:\u001b[0m\u001b[1;33m\u001b[0m\u001b[0m\n",
            "\u001b[1;32mpandas\\_libs\\index.pyx\u001b[0m in \u001b[0;36mpandas._libs.index.IndexEngine.get_loc\u001b[1;34m()\u001b[0m\n",
            "\u001b[1;32mpandas\\_libs\\index.pyx\u001b[0m in \u001b[0;36mpandas._libs.index.IndexEngine.get_loc\u001b[1;34m()\u001b[0m\n",
            "\u001b[1;32mpandas\\_libs\\hashtable_class_helper.pxi\u001b[0m in \u001b[0;36mpandas._libs.hashtable.PyObjectHashTable.get_item\u001b[1;34m()\u001b[0m\n",
            "\u001b[1;32mpandas\\_libs\\hashtable_class_helper.pxi\u001b[0m in \u001b[0;36mpandas._libs.hashtable.PyObjectHashTable.get_item\u001b[1;34m()\u001b[0m\n",
            "\u001b[1;31mKeyError\u001b[0m: 'product_category_2'",
            "\nDuring handling of the above exception, another exception occurred:\n",
            "\u001b[1;31mKeyError\u001b[0m                                  Traceback (most recent call last)",
            "\u001b[1;32m<ipython-input-104-f32fdd2d7602>\u001b[0m in \u001b[0;36m<module>\u001b[1;34m()\u001b[0m\n\u001b[1;32m----> 1\u001b[1;33m \u001b[1;32mdel\u001b[0m \u001b[0mtest\u001b[0m\u001b[1;33m[\u001b[0m\u001b[1;34m'product_category_2'\u001b[0m\u001b[1;33m]\u001b[0m\u001b[1;33m\u001b[0m\u001b[0m\n\u001b[0m\u001b[0;32m      2\u001b[0m \u001b[0mtest\u001b[0m\u001b[1;33m[\u001b[0m\u001b[1;34m'city_development_index'\u001b[0m\u001b[1;33m]\u001b[0m \u001b[1;33m=\u001b[0m \u001b[0mnp\u001b[0m\u001b[1;33m.\u001b[0m\u001b[0mwhere\u001b[0m\u001b[1;33m(\u001b[0m\u001b[0mtest\u001b[0m\u001b[1;33m[\u001b[0m\u001b[1;34m'city_development_index'\u001b[0m\u001b[1;33m]\u001b[0m\u001b[1;33m.\u001b[0m\u001b[0misnull\u001b[0m\u001b[1;33m(\u001b[0m\u001b[1;33m)\u001b[0m\u001b[1;33m,\u001b[0m \u001b[0mtest\u001b[0m\u001b[1;33m[\u001b[0m\u001b[1;34m'city_development_index'\u001b[0m\u001b[1;33m]\u001b[0m\u001b[1;33m.\u001b[0m\u001b[0mmode\u001b[0m\u001b[1;33m(\u001b[0m\u001b[1;33m)\u001b[0m\u001b[1;33m,\u001b[0m \u001b[0mtest\u001b[0m\u001b[1;33m[\u001b[0m\u001b[1;34m'city_development_index'\u001b[0m\u001b[1;33m]\u001b[0m\u001b[1;33m)\u001b[0m\u001b[1;33m\u001b[0m\u001b[0m\n\u001b[0;32m      3\u001b[0m \u001b[0mtest\u001b[0m\u001b[1;33m[\u001b[0m\u001b[1;34m'user_group_id'\u001b[0m\u001b[1;33m]\u001b[0m \u001b[1;33m=\u001b[0m \u001b[0mnp\u001b[0m\u001b[1;33m.\u001b[0m\u001b[0mwhere\u001b[0m\u001b[1;33m(\u001b[0m\u001b[0mtest\u001b[0m\u001b[1;33m[\u001b[0m\u001b[1;34m'user_group_id'\u001b[0m\u001b[1;33m]\u001b[0m\u001b[1;33m.\u001b[0m\u001b[0misnull\u001b[0m\u001b[1;33m(\u001b[0m\u001b[1;33m)\u001b[0m\u001b[1;33m,\u001b[0m \u001b[0mtest\u001b[0m\u001b[1;33m[\u001b[0m\u001b[1;34m'user_group_id'\u001b[0m\u001b[1;33m]\u001b[0m\u001b[1;33m.\u001b[0m\u001b[0mmode\u001b[0m\u001b[1;33m(\u001b[0m\u001b[1;33m)\u001b[0m\u001b[1;33m,\u001b[0m \u001b[0mtest\u001b[0m\u001b[1;33m[\u001b[0m\u001b[1;34m'user_group_id'\u001b[0m\u001b[1;33m]\u001b[0m\u001b[1;33m)\u001b[0m\u001b[1;33m\u001b[0m\u001b[0m\n\u001b[0;32m      4\u001b[0m \u001b[0mtest\u001b[0m\u001b[1;33m[\u001b[0m\u001b[1;34m'gender'\u001b[0m\u001b[1;33m]\u001b[0m \u001b[1;33m=\u001b[0m \u001b[0mnp\u001b[0m\u001b[1;33m.\u001b[0m\u001b[0mwhere\u001b[0m\u001b[1;33m(\u001b[0m\u001b[0mtest\u001b[0m\u001b[1;33m[\u001b[0m\u001b[1;34m'gender'\u001b[0m\u001b[1;33m]\u001b[0m\u001b[1;33m.\u001b[0m\u001b[0misnull\u001b[0m\u001b[1;33m(\u001b[0m\u001b[1;33m)\u001b[0m\u001b[1;33m,\u001b[0m \u001b[0mtest\u001b[0m\u001b[1;33m[\u001b[0m\u001b[1;34m'gender'\u001b[0m\u001b[1;33m]\u001b[0m\u001b[1;33m.\u001b[0m\u001b[0mmode\u001b[0m\u001b[1;33m(\u001b[0m\u001b[1;33m)\u001b[0m\u001b[1;33m,\u001b[0m \u001b[0mtest\u001b[0m\u001b[1;33m[\u001b[0m\u001b[1;34m'gender'\u001b[0m\u001b[1;33m]\u001b[0m\u001b[1;33m)\u001b[0m\u001b[1;33m\u001b[0m\u001b[0m\n\u001b[0;32m      5\u001b[0m \u001b[0mtest\u001b[0m\u001b[1;33m[\u001b[0m\u001b[1;34m'age_level'\u001b[0m\u001b[1;33m]\u001b[0m \u001b[1;33m=\u001b[0m \u001b[0mnp\u001b[0m\u001b[1;33m.\u001b[0m\u001b[0mwhere\u001b[0m\u001b[1;33m(\u001b[0m\u001b[0mtest\u001b[0m\u001b[1;33m[\u001b[0m\u001b[1;34m'age_level'\u001b[0m\u001b[1;33m]\u001b[0m\u001b[1;33m.\u001b[0m\u001b[0misnull\u001b[0m\u001b[1;33m(\u001b[0m\u001b[1;33m)\u001b[0m\u001b[1;33m,\u001b[0m \u001b[0mtest\u001b[0m\u001b[1;33m[\u001b[0m\u001b[1;34m'age_level'\u001b[0m\u001b[1;33m]\u001b[0m\u001b[1;33m.\u001b[0m\u001b[0mmode\u001b[0m\u001b[1;33m(\u001b[0m\u001b[1;33m)\u001b[0m\u001b[1;33m,\u001b[0m \u001b[0mtest\u001b[0m\u001b[1;33m[\u001b[0m\u001b[1;34m'age_level'\u001b[0m\u001b[1;33m]\u001b[0m\u001b[1;33m)\u001b[0m\u001b[1;33m\u001b[0m\u001b[0m\n",
            "\u001b[1;32mC:\\ProgramData\\Anaconda3\\lib\\site-packages\\pandas\\core\\generic.py\u001b[0m in \u001b[0;36m__delitem__\u001b[1;34m(self, key)\u001b[0m\n\u001b[0;32m   2738\u001b[0m             \u001b[1;31m# there was no match, this call should raise the appropriate\u001b[0m\u001b[1;33m\u001b[0m\u001b[1;33m\u001b[0m\u001b[0m\n\u001b[0;32m   2739\u001b[0m             \u001b[1;31m# exception:\u001b[0m\u001b[1;33m\u001b[0m\u001b[1;33m\u001b[0m\u001b[0m\n\u001b[1;32m-> 2740\u001b[1;33m             \u001b[0mself\u001b[0m\u001b[1;33m.\u001b[0m\u001b[0m_data\u001b[0m\u001b[1;33m.\u001b[0m\u001b[0mdelete\u001b[0m\u001b[1;33m(\u001b[0m\u001b[0mkey\u001b[0m\u001b[1;33m)\u001b[0m\u001b[1;33m\u001b[0m\u001b[0m\n\u001b[0m\u001b[0;32m   2741\u001b[0m \u001b[1;33m\u001b[0m\u001b[0m\n\u001b[0;32m   2742\u001b[0m         \u001b[1;31m# delete from the caches\u001b[0m\u001b[1;33m\u001b[0m\u001b[1;33m\u001b[0m\u001b[0m\n",
            "\u001b[1;32mC:\\ProgramData\\Anaconda3\\lib\\site-packages\\pandas\\core\\internals.py\u001b[0m in \u001b[0;36mdelete\u001b[1;34m(self, item)\u001b[0m\n\u001b[0;32m   4172\u001b[0m         \u001b[0mDelete\u001b[0m \u001b[0mselected\u001b[0m \u001b[0mitem\u001b[0m \u001b[1;33m(\u001b[0m\u001b[0mitems\u001b[0m \u001b[1;32mif\u001b[0m \u001b[0mnon\u001b[0m\u001b[1;33m-\u001b[0m\u001b[0munique\u001b[0m\u001b[1;33m)\u001b[0m \u001b[1;32min\u001b[0m\u001b[1;33m-\u001b[0m\u001b[0mplace\u001b[0m\u001b[1;33m.\u001b[0m\u001b[1;33m\u001b[0m\u001b[0m\n\u001b[0;32m   4173\u001b[0m         \"\"\"\n\u001b[1;32m-> 4174\u001b[1;33m         \u001b[0mindexer\u001b[0m \u001b[1;33m=\u001b[0m \u001b[0mself\u001b[0m\u001b[1;33m.\u001b[0m\u001b[0mitems\u001b[0m\u001b[1;33m.\u001b[0m\u001b[0mget_loc\u001b[0m\u001b[1;33m(\u001b[0m\u001b[0mitem\u001b[0m\u001b[1;33m)\u001b[0m\u001b[1;33m\u001b[0m\u001b[0m\n\u001b[0m\u001b[0;32m   4175\u001b[0m \u001b[1;33m\u001b[0m\u001b[0m\n\u001b[0;32m   4176\u001b[0m         \u001b[0mis_deleted\u001b[0m \u001b[1;33m=\u001b[0m \u001b[0mnp\u001b[0m\u001b[1;33m.\u001b[0m\u001b[0mzeros\u001b[0m\u001b[1;33m(\u001b[0m\u001b[0mself\u001b[0m\u001b[1;33m.\u001b[0m\u001b[0mshape\u001b[0m\u001b[1;33m[\u001b[0m\u001b[1;36m0\u001b[0m\u001b[1;33m]\u001b[0m\u001b[1;33m,\u001b[0m \u001b[0mdtype\u001b[0m\u001b[1;33m=\u001b[0m\u001b[0mnp\u001b[0m\u001b[1;33m.\u001b[0m\u001b[0mbool_\u001b[0m\u001b[1;33m)\u001b[0m\u001b[1;33m\u001b[0m\u001b[0m\n",
            "\u001b[1;32mC:\\ProgramData\\Anaconda3\\lib\\site-packages\\pandas\\core\\indexes\\base.py\u001b[0m in \u001b[0;36mget_loc\u001b[1;34m(self, key, method, tolerance)\u001b[0m\n\u001b[0;32m   3063\u001b[0m                 \u001b[1;32mreturn\u001b[0m \u001b[0mself\u001b[0m\u001b[1;33m.\u001b[0m\u001b[0m_engine\u001b[0m\u001b[1;33m.\u001b[0m\u001b[0mget_loc\u001b[0m\u001b[1;33m(\u001b[0m\u001b[0mkey\u001b[0m\u001b[1;33m)\u001b[0m\u001b[1;33m\u001b[0m\u001b[0m\n\u001b[0;32m   3064\u001b[0m             \u001b[1;32mexcept\u001b[0m \u001b[0mKeyError\u001b[0m\u001b[1;33m:\u001b[0m\u001b[1;33m\u001b[0m\u001b[0m\n\u001b[1;32m-> 3065\u001b[1;33m                 \u001b[1;32mreturn\u001b[0m \u001b[0mself\u001b[0m\u001b[1;33m.\u001b[0m\u001b[0m_engine\u001b[0m\u001b[1;33m.\u001b[0m\u001b[0mget_loc\u001b[0m\u001b[1;33m(\u001b[0m\u001b[0mself\u001b[0m\u001b[1;33m.\u001b[0m\u001b[0m_maybe_cast_indexer\u001b[0m\u001b[1;33m(\u001b[0m\u001b[0mkey\u001b[0m\u001b[1;33m)\u001b[0m\u001b[1;33m)\u001b[0m\u001b[1;33m\u001b[0m\u001b[0m\n\u001b[0m\u001b[0;32m   3066\u001b[0m \u001b[1;33m\u001b[0m\u001b[0m\n\u001b[0;32m   3067\u001b[0m         \u001b[0mindexer\u001b[0m \u001b[1;33m=\u001b[0m \u001b[0mself\u001b[0m\u001b[1;33m.\u001b[0m\u001b[0mget_indexer\u001b[0m\u001b[1;33m(\u001b[0m\u001b[1;33m[\u001b[0m\u001b[0mkey\u001b[0m\u001b[1;33m]\u001b[0m\u001b[1;33m,\u001b[0m \u001b[0mmethod\u001b[0m\u001b[1;33m=\u001b[0m\u001b[0mmethod\u001b[0m\u001b[1;33m,\u001b[0m \u001b[0mtolerance\u001b[0m\u001b[1;33m=\u001b[0m\u001b[0mtolerance\u001b[0m\u001b[1;33m)\u001b[0m\u001b[1;33m\u001b[0m\u001b[0m\n",
            "\u001b[1;32mpandas\\_libs\\index.pyx\u001b[0m in \u001b[0;36mpandas._libs.index.IndexEngine.get_loc\u001b[1;34m()\u001b[0m\n",
            "\u001b[1;32mpandas\\_libs\\index.pyx\u001b[0m in \u001b[0;36mpandas._libs.index.IndexEngine.get_loc\u001b[1;34m()\u001b[0m\n",
            "\u001b[1;32mpandas\\_libs\\hashtable_class_helper.pxi\u001b[0m in \u001b[0;36mpandas._libs.hashtable.PyObjectHashTable.get_item\u001b[1;34m()\u001b[0m\n",
            "\u001b[1;32mpandas\\_libs\\hashtable_class_helper.pxi\u001b[0m in \u001b[0;36mpandas._libs.hashtable.PyObjectHashTable.get_item\u001b[1;34m()\u001b[0m\n",
            "\u001b[1;31mKeyError\u001b[0m: 'product_category_2'"
          ]
        }
      ]
    },
    {
      "metadata": {
        "id": "y5AfkTOp8m8q",
        "colab_type": "code",
        "colab": {}
      },
      "cell_type": "code",
      "source": [
        "test = oneHotEncodingOfVariable(test,['product','campaign_id','webpage_id','gender','city_development_index','user_depth','age_level','user_group_id','product_category_1'])"
      ],
      "execution_count": 0,
      "outputs": []
    },
    {
      "metadata": {
        "id": "thT7G7XF8m8z",
        "colab_type": "code",
        "colab": {}
      },
      "cell_type": "code",
      "source": [
        "test.shape"
      ],
      "execution_count": 0,
      "outputs": []
    },
    {
      "metadata": {
        "id": "52I6HJW58m87",
        "colab_type": "code",
        "colab": {},
        "outputId": "159371be-8450-4a7e-87fb-6289301a8fdf"
      },
      "cell_type": "code",
      "source": [
        "test.head()"
      ],
      "execution_count": 0,
      "outputs": [
        {
          "output_type": "execute_result",
          "data": {
            "text/html": [
              "<div>\n",
              "<style scoped>\n",
              "    .dataframe tbody tr th:only-of-type {\n",
              "        vertical-align: middle;\n",
              "    }\n",
              "\n",
              "    .dataframe tbody tr th {\n",
              "        vertical-align: top;\n",
              "    }\n",
              "\n",
              "    .dataframe thead th {\n",
              "        text-align: right;\n",
              "    }\n",
              "</style>\n",
              "<table border=\"1\" class=\"dataframe\">\n",
              "  <thead>\n",
              "    <tr style=\"text-align: right;\">\n",
              "      <th></th>\n",
              "      <th>session_id</th>\n",
              "      <th>var_1</th>\n",
              "      <th>product_A</th>\n",
              "      <th>product_B</th>\n",
              "      <th>product_C</th>\n",
              "      <th>product_D</th>\n",
              "      <th>product_E</th>\n",
              "      <th>product_F</th>\n",
              "      <th>product_G</th>\n",
              "      <th>product_H</th>\n",
              "      <th>...</th>\n",
              "      <th>user_group_id_8.0</th>\n",
              "      <th>user_group_id_9.0</th>\n",
              "      <th>user_group_id_10.0</th>\n",
              "      <th>user_group_id_11.0</th>\n",
              "      <th>user_group_id_12.0</th>\n",
              "      <th>product_category_1_1</th>\n",
              "      <th>product_category_1_2</th>\n",
              "      <th>product_category_1_3</th>\n",
              "      <th>product_category_1_4</th>\n",
              "      <th>product_category_1_5</th>\n",
              "    </tr>\n",
              "  </thead>\n",
              "  <tbody>\n",
              "    <tr>\n",
              "      <th>0</th>\n",
              "      <td>411705</td>\n",
              "      <td>0</td>\n",
              "      <td>0</td>\n",
              "      <td>0</td>\n",
              "      <td>0</td>\n",
              "      <td>0</td>\n",
              "      <td>0</td>\n",
              "      <td>0</td>\n",
              "      <td>0</td>\n",
              "      <td>0</td>\n",
              "      <td>...</td>\n",
              "      <td>0</td>\n",
              "      <td>0</td>\n",
              "      <td>0</td>\n",
              "      <td>0</td>\n",
              "      <td>0</td>\n",
              "      <td>1</td>\n",
              "      <td>0</td>\n",
              "      <td>0</td>\n",
              "      <td>0</td>\n",
              "      <td>0</td>\n",
              "    </tr>\n",
              "    <tr>\n",
              "      <th>1</th>\n",
              "      <td>208263</td>\n",
              "      <td>1</td>\n",
              "      <td>0</td>\n",
              "      <td>0</td>\n",
              "      <td>0</td>\n",
              "      <td>0</td>\n",
              "      <td>0</td>\n",
              "      <td>0</td>\n",
              "      <td>0</td>\n",
              "      <td>0</td>\n",
              "      <td>...</td>\n",
              "      <td>0</td>\n",
              "      <td>0</td>\n",
              "      <td>0</td>\n",
              "      <td>0</td>\n",
              "      <td>0</td>\n",
              "      <td>0</td>\n",
              "      <td>0</td>\n",
              "      <td>1</td>\n",
              "      <td>0</td>\n",
              "      <td>0</td>\n",
              "    </tr>\n",
              "    <tr>\n",
              "      <th>2</th>\n",
              "      <td>239450</td>\n",
              "      <td>1</td>\n",
              "      <td>0</td>\n",
              "      <td>0</td>\n",
              "      <td>0</td>\n",
              "      <td>0</td>\n",
              "      <td>0</td>\n",
              "      <td>0</td>\n",
              "      <td>0</td>\n",
              "      <td>0</td>\n",
              "      <td>...</td>\n",
              "      <td>0</td>\n",
              "      <td>0</td>\n",
              "      <td>0</td>\n",
              "      <td>0</td>\n",
              "      <td>0</td>\n",
              "      <td>0</td>\n",
              "      <td>0</td>\n",
              "      <td>0</td>\n",
              "      <td>1</td>\n",
              "      <td>0</td>\n",
              "    </tr>\n",
              "    <tr>\n",
              "      <th>3</th>\n",
              "      <td>547761</td>\n",
              "      <td>0</td>\n",
              "      <td>0</td>\n",
              "      <td>0</td>\n",
              "      <td>0</td>\n",
              "      <td>0</td>\n",
              "      <td>0</td>\n",
              "      <td>0</td>\n",
              "      <td>1</td>\n",
              "      <td>0</td>\n",
              "      <td>...</td>\n",
              "      <td>0</td>\n",
              "      <td>0</td>\n",
              "      <td>0</td>\n",
              "      <td>0</td>\n",
              "      <td>0</td>\n",
              "      <td>0</td>\n",
              "      <td>0</td>\n",
              "      <td>0</td>\n",
              "      <td>0</td>\n",
              "      <td>1</td>\n",
              "    </tr>\n",
              "    <tr>\n",
              "      <th>4</th>\n",
              "      <td>574275</td>\n",
              "      <td>1</td>\n",
              "      <td>0</td>\n",
              "      <td>0</td>\n",
              "      <td>0</td>\n",
              "      <td>0</td>\n",
              "      <td>0</td>\n",
              "      <td>0</td>\n",
              "      <td>0</td>\n",
              "      <td>1</td>\n",
              "      <td>...</td>\n",
              "      <td>0</td>\n",
              "      <td>1</td>\n",
              "      <td>0</td>\n",
              "      <td>0</td>\n",
              "      <td>0</td>\n",
              "      <td>0</td>\n",
              "      <td>0</td>\n",
              "      <td>0</td>\n",
              "      <td>0</td>\n",
              "      <td>1</td>\n",
              "    </tr>\n",
              "  </tbody>\n",
              "</table>\n",
              "<p>5 rows × 65 columns</p>\n",
              "</div>"
            ],
            "text/plain": [
              "   session_id  var_1  product_A  product_B  product_C  product_D  product_E  \\\n",
              "0      411705      0          0          0          0          0          0   \n",
              "1      208263      1          0          0          0          0          0   \n",
              "2      239450      1          0          0          0          0          0   \n",
              "3      547761      0          0          0          0          0          0   \n",
              "4      574275      1          0          0          0          0          0   \n",
              "\n",
              "   product_F  product_G  product_H          ...           user_group_id_8.0  \\\n",
              "0          0          0          0          ...                           0   \n",
              "1          0          0          0          ...                           0   \n",
              "2          0          0          0          ...                           0   \n",
              "3          0          1          0          ...                           0   \n",
              "4          0          0          1          ...                           0   \n",
              "\n",
              "   user_group_id_9.0  user_group_id_10.0  user_group_id_11.0  \\\n",
              "0                  0                   0                   0   \n",
              "1                  0                   0                   0   \n",
              "2                  0                   0                   0   \n",
              "3                  0                   0                   0   \n",
              "4                  1                   0                   0   \n",
              "\n",
              "   user_group_id_12.0  product_category_1_1  product_category_1_2  \\\n",
              "0                   0                     1                     0   \n",
              "1                   0                     0                     0   \n",
              "2                   0                     0                     0   \n",
              "3                   0                     0                     0   \n",
              "4                   0                     0                     0   \n",
              "\n",
              "   product_category_1_3  product_category_1_4  product_category_1_5  \n",
              "0                     0                     0                     0  \n",
              "1                     1                     0                     0  \n",
              "2                     0                     1                     0  \n",
              "3                     0                     0                     1  \n",
              "4                     0                     0                     1  \n",
              "\n",
              "[5 rows x 65 columns]"
            ]
          },
          "metadata": {
            "tags": []
          },
          "execution_count": 105
        }
      ]
    },
    {
      "metadata": {
        "id": "BIWqXHou8m9G",
        "colab_type": "code",
        "colab": {}
      },
      "cell_type": "code",
      "source": [
        "del test['DateTime']\n",
        "del test['user_id']"
      ],
      "execution_count": 0,
      "outputs": []
    },
    {
      "metadata": {
        "id": "mpWpvAvP8m9K",
        "colab_type": "code",
        "colab": {}
      },
      "cell_type": "code",
      "source": [
        "test.head()"
      ],
      "execution_count": 0,
      "outputs": []
    },
    {
      "metadata": {
        "id": "9aLk7_hE8m9O",
        "colab_type": "code",
        "colab": {}
      },
      "cell_type": "code",
      "source": [
        "test.columns[1:len(test.columns)]"
      ],
      "execution_count": 0,
      "outputs": []
    },
    {
      "metadata": {
        "id": "zuHmCe368m9T",
        "colab_type": "code",
        "colab": {}
      },
      "cell_type": "code",
      "source": [
        "prediction_lr = lr.predict(test[test.columns[1:len(test.columns)]])\n",
        "submission = pd.DataFrame({'session_id': test['session_id'], 'is_click': prediction_lr})\n",
        "submission.to_csv(\"lr_submission.csv\", sep=',', index = False)"
      ],
      "execution_count": 0,
      "outputs": []
    },
    {
      "metadata": {
        "id": "71g3sgFZ8m9c",
        "colab_type": "code",
        "colab": {}
      },
      "cell_type": "code",
      "source": [
        "predict_rf = rf.predict(test[test.columns[1:len(test.columns)]])\n",
        "submission = pd.DataFrame({'session_id': test['session_id'], 'is_click': predict_rf})\n",
        "submission.to_csv(\"rf_submission.csv\", sep=',', index = False)"
      ],
      "execution_count": 0,
      "outputs": []
    },
    {
      "metadata": {
        "id": "Gyw6ROcP8m9f",
        "colab_type": "code",
        "colab": {}
      },
      "cell_type": "code",
      "source": [
        "submission['is_click'].value_counts()"
      ],
      "execution_count": 0,
      "outputs": []
    },
    {
      "metadata": {
        "id": "pDWQ1bvR8m9l",
        "colab_type": "code",
        "colab": {}
      },
      "cell_type": "code",
      "source": [
        "predict_rf_1 = rf1.predict(test[test.columns[1:len(test.columns)]])\n",
        "submission = pd.DataFrame({'session_id': test['session_id'], 'is_click': predict_rf_1})\n",
        "submission.to_csv(\"rf_submission_1.csv\", sep=',', index = False)"
      ],
      "execution_count": 0,
      "outputs": []
    },
    {
      "metadata": {
        "id": "uiNWYArj8m9o",
        "colab_type": "code",
        "colab": {}
      },
      "cell_type": "code",
      "source": [
        "predict_mlp = mlp.predict(test[test.columns[1:len(test.columns)]])\n",
        "submission = pd.DataFrame({'session_id': test['session_id'], 'is_click': predict_mlp})\n",
        "submission.to_csv(\"mlp_submission_1.csv\", sep=',', index = False)"
      ],
      "execution_count": 0,
      "outputs": []
    },
    {
      "metadata": {
        "id": "42c8GO7L8m9q",
        "colab_type": "code",
        "colab": {}
      },
      "cell_type": "code",
      "source": [
        "predict_tr = tr.predict(test[test.columns[1:len(test.columns)]])\n",
        "submission = pd.DataFrame({'session_id': test['session_id'], 'is_click': predict_tr})\n",
        "submission.to_csv(\"tr_submission_1.csv\", sep=',', index = False)"
      ],
      "execution_count": 0,
      "outputs": []
    },
    {
      "metadata": {
        "id": "vGQjZ6Gp8m9s",
        "colab_type": "code",
        "colab": {}
      },
      "cell_type": "code",
      "source": [
        ""
      ],
      "execution_count": 0,
      "outputs": []
    }
  ]
}